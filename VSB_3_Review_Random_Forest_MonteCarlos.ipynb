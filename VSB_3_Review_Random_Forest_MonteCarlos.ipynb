{
 "cells": [
  {
   "cell_type": "code",
   "execution_count": 1,
   "metadata": {},
   "outputs": [],
   "source": [
    "import pandas as pd\n",
    "import numpy as np\n",
    "from matplotlib import pyplot as plt\n",
    "import seaborn as sns"
   ]
  },
  {
   "cell_type": "code",
   "execution_count": 2,
   "metadata": {},
   "outputs": [
    {
     "data": {
      "text/html": [
       "<div>\n",
       "<style scoped>\n",
       "    .dataframe tbody tr th:only-of-type {\n",
       "        vertical-align: middle;\n",
       "    }\n",
       "\n",
       "    .dataframe tbody tr th {\n",
       "        vertical-align: top;\n",
       "    }\n",
       "\n",
       "    .dataframe thead th {\n",
       "        text-align: right;\n",
       "    }\n",
       "</style>\n",
       "<table border=\"1\" class=\"dataframe\">\n",
       "  <thead>\n",
       "    <tr style=\"text-align: right;\">\n",
       "      <th></th>\n",
       "      <th>Unnamed: 0</th>\n",
       "      <th>random_seed</th>\n",
       "      <th>num_estimators</th>\n",
       "      <th>accuracy</th>\n",
       "      <th>recall</th>\n",
       "      <th>precision</th>\n",
       "      <th>f1_score</th>\n",
       "    </tr>\n",
       "  </thead>\n",
       "  <tbody>\n",
       "    <tr>\n",
       "      <th>count</th>\n",
       "      <td>520.000000</td>\n",
       "      <td>520.000000</td>\n",
       "      <td>520.000000</td>\n",
       "      <td>520.000000</td>\n",
       "      <td>520.000000</td>\n",
       "      <td>520.000000</td>\n",
       "      <td>520.000000</td>\n",
       "    </tr>\n",
       "    <tr>\n",
       "      <th>mean</th>\n",
       "      <td>259.500000</td>\n",
       "      <td>23.500000</td>\n",
       "      <td>22.500000</td>\n",
       "      <td>0.988650</td>\n",
       "      <td>0.878531</td>\n",
       "      <td>0.931367</td>\n",
       "      <td>0.903435</td>\n",
       "    </tr>\n",
       "    <tr>\n",
       "      <th>std</th>\n",
       "      <td>150.255338</td>\n",
       "      <td>14.375236</td>\n",
       "      <td>5.595553</td>\n",
       "      <td>0.002869</td>\n",
       "      <td>0.038641</td>\n",
       "      <td>0.029529</td>\n",
       "      <td>0.023474</td>\n",
       "    </tr>\n",
       "    <tr>\n",
       "      <th>min</th>\n",
       "      <td>0.000000</td>\n",
       "      <td>1.000000</td>\n",
       "      <td>15.000000</td>\n",
       "      <td>0.979346</td>\n",
       "      <td>0.763158</td>\n",
       "      <td>0.860215</td>\n",
       "      <td>0.831776</td>\n",
       "    </tr>\n",
       "    <tr>\n",
       "      <th>25%</th>\n",
       "      <td>129.750000</td>\n",
       "      <td>11.000000</td>\n",
       "      <td>18.750000</td>\n",
       "      <td>0.986804</td>\n",
       "      <td>0.857143</td>\n",
       "      <td>0.908257</td>\n",
       "      <td>0.887640</td>\n",
       "    </tr>\n",
       "    <tr>\n",
       "      <th>50%</th>\n",
       "      <td>259.500000</td>\n",
       "      <td>23.500000</td>\n",
       "      <td>22.500000</td>\n",
       "      <td>0.989099</td>\n",
       "      <td>0.881720</td>\n",
       "      <td>0.933962</td>\n",
       "      <td>0.907407</td>\n",
       "    </tr>\n",
       "    <tr>\n",
       "      <th>75%</th>\n",
       "      <td>389.250000</td>\n",
       "      <td>36.000000</td>\n",
       "      <td>26.250000</td>\n",
       "      <td>0.990820</td>\n",
       "      <td>0.904255</td>\n",
       "      <td>0.952858</td>\n",
       "      <td>0.921611</td>\n",
       "    </tr>\n",
       "    <tr>\n",
       "      <th>max</th>\n",
       "      <td>519.000000</td>\n",
       "      <td>46.000000</td>\n",
       "      <td>30.000000</td>\n",
       "      <td>0.994263</td>\n",
       "      <td>0.963303</td>\n",
       "      <td>1.000000</td>\n",
       "      <td>0.946237</td>\n",
       "    </tr>\n",
       "  </tbody>\n",
       "</table>\n",
       "</div>"
      ],
      "text/plain": [
       "       Unnamed: 0  random_seed  num_estimators    accuracy      recall  \\\n",
       "count  520.000000   520.000000      520.000000  520.000000  520.000000   \n",
       "mean   259.500000    23.500000       22.500000    0.988650    0.878531   \n",
       "std    150.255338    14.375236        5.595553    0.002869    0.038641   \n",
       "min      0.000000     1.000000       15.000000    0.979346    0.763158   \n",
       "25%    129.750000    11.000000       18.750000    0.986804    0.857143   \n",
       "50%    259.500000    23.500000       22.500000    0.989099    0.881720   \n",
       "75%    389.250000    36.000000       26.250000    0.990820    0.904255   \n",
       "max    519.000000    46.000000       30.000000    0.994263    0.963303   \n",
       "\n",
       "        precision    f1_score  \n",
       "count  520.000000  520.000000  \n",
       "mean     0.931367    0.903435  \n",
       "std      0.029529    0.023474  \n",
       "min      0.860215    0.831776  \n",
       "25%      0.908257    0.887640  \n",
       "50%      0.933962    0.907407  \n",
       "75%      0.952858    0.921611  \n",
       "max      1.000000    0.946237  "
      ]
     },
     "execution_count": 2,
     "metadata": {},
     "output_type": "execute_result"
    }
   ],
   "source": [
    "df = pd.read_csv(\"random_forest_monte_carlo_trials.csv\")\n",
    "df.describe()"
   ]
  },
  {
   "cell_type": "code",
   "execution_count": 11,
   "metadata": {},
   "outputs": [
    {
     "data": {
      "text/plain": [
       "30    0.25\n",
       "25    0.25\n",
       "20    0.25\n",
       "15    0.25\n",
       "Name: num_estimators, dtype: float64"
      ]
     },
     "execution_count": 11,
     "metadata": {},
     "output_type": "execute_result"
    }
   ],
   "source": [
    "df[\"num_estimators\"].value_counts()/len(df)"
   ]
  },
  {
   "cell_type": "code",
   "execution_count": null,
   "metadata": {},
   "outputs": [],
   "source": []
  }
 ],
 "metadata": {
  "kernelspec": {
   "display_name": "Python 3",
   "language": "python",
   "name": "python3"
  },
  "language_info": {
   "codemirror_mode": {
    "name": "ipython",
    "version": 3
   },
   "file_extension": ".py",
   "mimetype": "text/x-python",
   "name": "python",
   "nbconvert_exporter": "python",
   "pygments_lexer": "ipython3",
   "version": "3.7.1"
  }
 },
 "nbformat": 4,
 "nbformat_minor": 2
}
