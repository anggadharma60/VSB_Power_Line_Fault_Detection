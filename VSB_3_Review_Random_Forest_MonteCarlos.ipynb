{
 "cells": [
  {
   "cell_type": "code",
   "execution_count": 1,
   "metadata": {},
   "outputs": [],
   "source": [
    "import pandas as pd\n",
    "import numpy as np\n",
    "from matplotlib import pyplot as plt\n",
    "import seaborn as sns"
   ]
  },
  {
   "cell_type": "code",
   "execution_count": 12,
   "metadata": {},
   "outputs": [
    {
     "data": {
      "text/html": [
       "<div>\n",
       "<style scoped>\n",
       "    .dataframe tbody tr th:only-of-type {\n",
       "        vertical-align: middle;\n",
       "    }\n",
       "\n",
       "    .dataframe tbody tr th {\n",
       "        vertical-align: top;\n",
       "    }\n",
       "\n",
       "    .dataframe thead th {\n",
       "        text-align: right;\n",
       "    }\n",
       "</style>\n",
       "<table border=\"1\" class=\"dataframe\">\n",
       "  <thead>\n",
       "    <tr style=\"text-align: right;\">\n",
       "      <th></th>\n",
       "      <th>Unnamed: 0</th>\n",
       "      <th>random_seed</th>\n",
       "      <th>num_estimators</th>\n",
       "      <th>accuracy</th>\n",
       "      <th>recall</th>\n",
       "      <th>precision</th>\n",
       "      <th>f1_score</th>\n",
       "      <th>matthews_corr_coef</th>\n",
       "    </tr>\n",
       "  </thead>\n",
       "  <tbody>\n",
       "    <tr>\n",
       "      <th>count</th>\n",
       "      <td>520.000000</td>\n",
       "      <td>520.000000</td>\n",
       "      <td>520.000000</td>\n",
       "      <td>520.000000</td>\n",
       "      <td>520.000000</td>\n",
       "      <td>520.000000</td>\n",
       "      <td>520.000000</td>\n",
       "      <td>520.000000</td>\n",
       "    </tr>\n",
       "    <tr>\n",
       "      <th>mean</th>\n",
       "      <td>259.500000</td>\n",
       "      <td>23.500000</td>\n",
       "      <td>22.500000</td>\n",
       "      <td>0.988733</td>\n",
       "      <td>0.879360</td>\n",
       "      <td>0.931824</td>\n",
       "      <td>0.904162</td>\n",
       "      <td>0.132568</td>\n",
       "    </tr>\n",
       "    <tr>\n",
       "      <th>std</th>\n",
       "      <td>150.255338</td>\n",
       "      <td>14.375236</td>\n",
       "      <td>5.595553</td>\n",
       "      <td>0.002813</td>\n",
       "      <td>0.036662</td>\n",
       "      <td>0.029384</td>\n",
       "      <td>0.023026</td>\n",
       "      <td>0.062791</td>\n",
       "    </tr>\n",
       "    <tr>\n",
       "      <th>min</th>\n",
       "      <td>0.000000</td>\n",
       "      <td>1.000000</td>\n",
       "      <td>15.000000</td>\n",
       "      <td>0.978772</td>\n",
       "      <td>0.754386</td>\n",
       "      <td>0.857143</td>\n",
       "      <td>0.822967</td>\n",
       "      <td>-0.024092</td>\n",
       "    </tr>\n",
       "    <tr>\n",
       "      <th>25%</th>\n",
       "      <td>129.750000</td>\n",
       "      <td>11.000000</td>\n",
       "      <td>18.750000</td>\n",
       "      <td>0.986804</td>\n",
       "      <td>0.859649</td>\n",
       "      <td>0.909091</td>\n",
       "      <td>0.888889</td>\n",
       "      <td>0.090444</td>\n",
       "    </tr>\n",
       "    <tr>\n",
       "      <th>50%</th>\n",
       "      <td>259.500000</td>\n",
       "      <td>23.500000</td>\n",
       "      <td>22.500000</td>\n",
       "      <td>0.989099</td>\n",
       "      <td>0.881720</td>\n",
       "      <td>0.933648</td>\n",
       "      <td>0.906077</td>\n",
       "      <td>0.135499</td>\n",
       "    </tr>\n",
       "    <tr>\n",
       "      <th>75%</th>\n",
       "      <td>389.250000</td>\n",
       "      <td>36.000000</td>\n",
       "      <td>26.250000</td>\n",
       "      <td>0.990820</td>\n",
       "      <td>0.903226</td>\n",
       "      <td>0.952858</td>\n",
       "      <td>0.922374</td>\n",
       "      <td>0.183801</td>\n",
       "    </tr>\n",
       "    <tr>\n",
       "      <th>max</th>\n",
       "      <td>519.000000</td>\n",
       "      <td>46.000000</td>\n",
       "      <td>30.000000</td>\n",
       "      <td>0.993689</td>\n",
       "      <td>0.972477</td>\n",
       "      <td>1.000000</td>\n",
       "      <td>0.949772</td>\n",
       "      <td>0.253678</td>\n",
       "    </tr>\n",
       "  </tbody>\n",
       "</table>\n",
       "</div>"
      ],
      "text/plain": [
       "       Unnamed: 0  random_seed  num_estimators    accuracy      recall  \\\n",
       "count  520.000000   520.000000      520.000000  520.000000  520.000000   \n",
       "mean   259.500000    23.500000       22.500000    0.988733    0.879360   \n",
       "std    150.255338    14.375236        5.595553    0.002813    0.036662   \n",
       "min      0.000000     1.000000       15.000000    0.978772    0.754386   \n",
       "25%    129.750000    11.000000       18.750000    0.986804    0.859649   \n",
       "50%    259.500000    23.500000       22.500000    0.989099    0.881720   \n",
       "75%    389.250000    36.000000       26.250000    0.990820    0.903226   \n",
       "max    519.000000    46.000000       30.000000    0.993689    0.972477   \n",
       "\n",
       "        precision    f1_score  matthews_corr_coef  \n",
       "count  520.000000  520.000000          520.000000  \n",
       "mean     0.931824    0.904162            0.132568  \n",
       "std      0.029384    0.023026            0.062791  \n",
       "min      0.857143    0.822967           -0.024092  \n",
       "25%      0.909091    0.888889            0.090444  \n",
       "50%      0.933648    0.906077            0.135499  \n",
       "75%      0.952858    0.922374            0.183801  \n",
       "max      1.000000    0.949772            0.253678  "
      ]
     },
     "execution_count": 12,
     "metadata": {},
     "output_type": "execute_result"
    }
   ],
   "source": [
    "df = pd.read_csv(\"random_forest_monte_carlo_trials.csv\")\n",
    "df.describe()"
   ]
  },
  {
   "cell_type": "code",
   "execution_count": 11,
   "metadata": {},
   "outputs": [
    {
     "data": {
      "text/plain": [
       "30    0.25\n",
       "25    0.25\n",
       "20    0.25\n",
       "15    0.25\n",
       "Name: num_estimators, dtype: float64"
      ]
     },
     "execution_count": 11,
     "metadata": {},
     "output_type": "execute_result"
    }
   ],
   "source": [
    "df[\"num_estimators\"].value_counts()/len(df)"
   ]
  },
  {
   "cell_type": "markdown",
   "metadata": {},
   "source": [
    "### To Do List\n",
    "\n",
    "<ul><li>Group By DWT, Num Estimator</li>\n",
    "    <li>Look at maxing stats</li>\n",
    "    <li>Look back at the continual 80-20 split... is training data getting too small?</li>\n",
    "    <li>Decide on best DWT and Num Estimators</li>\n",
    "    <li>Train with entire set, predict on Test data and submit to see how in the ball park i am</li>\n",
    "    <li>Re-look at DWT thresholds, may be improvements here</li>\n",
    "    <li>There is not a lot of art in implementing the Random Forest classifier, winning this competition will require insightful signal processing and novel feature extraction methods</li>\n",
    "    </ul>"
   ]
  },
  {
   "cell_type": "code",
   "execution_count": 21,
   "metadata": {},
   "outputs": [
    {
     "name": "stdout",
     "output_type": "stream",
     "text": [
      "1\n",
      "3\n",
      "4\n",
      "5\n",
      "6\n",
      "7\n",
      "8\n",
      "9\n",
      "15\n",
      "16\n",
      "17\n",
      "20\n"
     ]
    },
    {
     "data": {
      "text/plain": [
       "array([2, 7, 3, 1])"
      ]
     },
     "execution_count": 21,
     "metadata": {},
     "output_type": "execute_result"
    }
   ],
   "source": [
    "a = np.array([0, 1, 3, 4, 5, 6,7 ,8 ,9,  15, 16, 17, 20])\n",
    "tmp_w = 1\n",
    "widths = []\n",
    "\n",
    "for idx in range(1,len(a)):\n",
    "    print(a[idx])\n",
    "    if a[idx]-a[idx-1] == 1:\n",
    "        tmp_w +=1\n",
    "    else:\n",
    "        widths.append(tmp_w)\n",
    "        tmp_w = 1\n",
    "widths.append(tmp_w)\n",
    "widths = np.array(widths)\n",
    "widths"
   ]
  },
  {
   "cell_type": "code",
   "execution_count": null,
   "metadata": {},
   "outputs": [],
   "source": []
  }
 ],
 "metadata": {
  "kernelspec": {
   "display_name": "Python 3",
   "language": "python",
   "name": "python3"
  },
  "language_info": {
   "codemirror_mode": {
    "name": "ipython",
    "version": 3
   },
   "file_extension": ".py",
   "mimetype": "text/x-python",
   "name": "python",
   "nbconvert_exporter": "python",
   "pygments_lexer": "ipython3",
   "version": "3.7.1"
  }
 },
 "nbformat": 4,
 "nbformat_minor": 2
}
